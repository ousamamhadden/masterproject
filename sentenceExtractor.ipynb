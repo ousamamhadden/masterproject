{
  "nbformat": 4,
  "nbformat_minor": 0,
  "metadata": {
    "colab": {
      "provenance": [],
      "gpuType": "T4"
    },
    "kernelspec": {
      "name": "python3",
      "display_name": "Python 3"
    },
    "language_info": {
      "name": "python"
    },
    "accelerator": "GPU"
  },
  "cells": [
    {
      "cell_type": "code",
      "source": [
        "!pip install transformers-interpret"
      ],
      "metadata": {
        "colab": {
          "base_uri": "https://localhost:8080/"
        },
        "id": "zqmRiVV-eMIQ",
        "outputId": "60fcd0b9-99dd-421d-88a7-fcc6053cdef3"
      },
      "execution_count": null,
      "outputs": [
        {
          "output_type": "stream",
          "name": "stdout",
          "text": [
            "Collecting transformers-interpret\n",
            "  Downloading transformers_interpret-0.10.0-py3-none-any.whl (45 kB)\n",
            "\u001b[2K     \u001b[90m━━━━━━━━━━━━━━━━━━━━━━━━━━━━━━━━━━━━━━━━\u001b[0m \u001b[32m45.8/45.8 kB\u001b[0m \u001b[31m1.1 MB/s\u001b[0m eta \u001b[36m0:00:00\u001b[0m\n",
            "\u001b[?25hCollecting captum>=0.3.1 (from transformers-interpret)\n",
            "  Downloading captum-0.7.0-py3-none-any.whl (1.3 MB)\n",
            "\u001b[2K     \u001b[90m━━━━━━━━━━━━━━━━━━━━━━━━━━━━━━━━━━━━━━━━\u001b[0m \u001b[32m1.3/1.3 MB\u001b[0m \u001b[31m11.5 MB/s\u001b[0m eta \u001b[36m0:00:00\u001b[0m\n",
            "\u001b[?25hRequirement already satisfied: ipython<8.0.0,>=7.31.1 in /usr/local/lib/python3.10/dist-packages (from transformers-interpret) (7.34.0)\n",
            "Requirement already satisfied: transformers>=3.0.0 in /usr/local/lib/python3.10/dist-packages (from transformers-interpret) (4.41.2)\n",
            "Requirement already satisfied: matplotlib in /usr/local/lib/python3.10/dist-packages (from captum>=0.3.1->transformers-interpret) (3.7.1)\n",
            "Requirement already satisfied: numpy in /usr/local/lib/python3.10/dist-packages (from captum>=0.3.1->transformers-interpret) (1.25.2)\n",
            "Requirement already satisfied: torch>=1.6 in /usr/local/lib/python3.10/dist-packages (from captum>=0.3.1->transformers-interpret) (2.3.0+cu121)\n",
            "Requirement already satisfied: tqdm in /usr/local/lib/python3.10/dist-packages (from captum>=0.3.1->transformers-interpret) (4.66.4)\n",
            "Requirement already satisfied: setuptools>=18.5 in /usr/local/lib/python3.10/dist-packages (from ipython<8.0.0,>=7.31.1->transformers-interpret) (67.7.2)\n",
            "Collecting jedi>=0.16 (from ipython<8.0.0,>=7.31.1->transformers-interpret)\n",
            "  Downloading jedi-0.19.1-py2.py3-none-any.whl (1.6 MB)\n",
            "\u001b[2K     \u001b[90m━━━━━━━━━━━━━━━━━━━━━━━━━━━━━━━━━━━━━━━━\u001b[0m \u001b[32m1.6/1.6 MB\u001b[0m \u001b[31m18.1 MB/s\u001b[0m eta \u001b[36m0:00:00\u001b[0m\n",
            "\u001b[?25hRequirement already satisfied: decorator in /usr/local/lib/python3.10/dist-packages (from ipython<8.0.0,>=7.31.1->transformers-interpret) (4.4.2)\n",
            "Requirement already satisfied: pickleshare in /usr/local/lib/python3.10/dist-packages (from ipython<8.0.0,>=7.31.1->transformers-interpret) (0.7.5)\n",
            "Requirement already satisfied: traitlets>=4.2 in /usr/local/lib/python3.10/dist-packages (from ipython<8.0.0,>=7.31.1->transformers-interpret) (5.7.1)\n",
            "Requirement already satisfied: prompt-toolkit!=3.0.0,!=3.0.1,<3.1.0,>=2.0.0 in /usr/local/lib/python3.10/dist-packages (from ipython<8.0.0,>=7.31.1->transformers-interpret) (3.0.47)\n",
            "Requirement already satisfied: pygments in /usr/local/lib/python3.10/dist-packages (from ipython<8.0.0,>=7.31.1->transformers-interpret) (2.16.1)\n",
            "Requirement already satisfied: backcall in /usr/local/lib/python3.10/dist-packages (from ipython<8.0.0,>=7.31.1->transformers-interpret) (0.2.0)\n",
            "Requirement already satisfied: matplotlib-inline in /usr/local/lib/python3.10/dist-packages (from ipython<8.0.0,>=7.31.1->transformers-interpret) (0.1.7)\n",
            "Requirement already satisfied: pexpect>4.3 in /usr/local/lib/python3.10/dist-packages (from ipython<8.0.0,>=7.31.1->transformers-interpret) (4.9.0)\n",
            "Requirement already satisfied: filelock in /usr/local/lib/python3.10/dist-packages (from transformers>=3.0.0->transformers-interpret) (3.14.0)\n",
            "Requirement already satisfied: huggingface-hub<1.0,>=0.23.0 in /usr/local/lib/python3.10/dist-packages (from transformers>=3.0.0->transformers-interpret) (0.23.3)\n",
            "Requirement already satisfied: packaging>=20.0 in /usr/local/lib/python3.10/dist-packages (from transformers>=3.0.0->transformers-interpret) (24.1)\n",
            "Requirement already satisfied: pyyaml>=5.1 in /usr/local/lib/python3.10/dist-packages (from transformers>=3.0.0->transformers-interpret) (6.0.1)\n",
            "Requirement already satisfied: regex!=2019.12.17 in /usr/local/lib/python3.10/dist-packages (from transformers>=3.0.0->transformers-interpret) (2024.5.15)\n",
            "Requirement already satisfied: requests in /usr/local/lib/python3.10/dist-packages (from transformers>=3.0.0->transformers-interpret) (2.31.0)\n",
            "Requirement already satisfied: tokenizers<0.20,>=0.19 in /usr/local/lib/python3.10/dist-packages (from transformers>=3.0.0->transformers-interpret) (0.19.1)\n",
            "Requirement already satisfied: safetensors>=0.4.1 in /usr/local/lib/python3.10/dist-packages (from transformers>=3.0.0->transformers-interpret) (0.4.3)\n",
            "Requirement already satisfied: fsspec>=2023.5.0 in /usr/local/lib/python3.10/dist-packages (from huggingface-hub<1.0,>=0.23.0->transformers>=3.0.0->transformers-interpret) (2023.6.0)\n",
            "Requirement already satisfied: typing-extensions>=3.7.4.3 in /usr/local/lib/python3.10/dist-packages (from huggingface-hub<1.0,>=0.23.0->transformers>=3.0.0->transformers-interpret) (4.12.2)\n",
            "Requirement already satisfied: parso<0.9.0,>=0.8.3 in /usr/local/lib/python3.10/dist-packages (from jedi>=0.16->ipython<8.0.0,>=7.31.1->transformers-interpret) (0.8.4)\n",
            "Requirement already satisfied: ptyprocess>=0.5 in /usr/local/lib/python3.10/dist-packages (from pexpect>4.3->ipython<8.0.0,>=7.31.1->transformers-interpret) (0.7.0)\n",
            "Requirement already satisfied: wcwidth in /usr/local/lib/python3.10/dist-packages (from prompt-toolkit!=3.0.0,!=3.0.1,<3.1.0,>=2.0.0->ipython<8.0.0,>=7.31.1->transformers-interpret) (0.2.13)\n",
            "Requirement already satisfied: sympy in /usr/local/lib/python3.10/dist-packages (from torch>=1.6->captum>=0.3.1->transformers-interpret) (1.12.1)\n",
            "Requirement already satisfied: networkx in /usr/local/lib/python3.10/dist-packages (from torch>=1.6->captum>=0.3.1->transformers-interpret) (3.3)\n",
            "Requirement already satisfied: jinja2 in /usr/local/lib/python3.10/dist-packages (from torch>=1.6->captum>=0.3.1->transformers-interpret) (3.1.4)\n",
            "Collecting nvidia-cuda-nvrtc-cu12==12.1.105 (from torch>=1.6->captum>=0.3.1->transformers-interpret)\n",
            "  Using cached nvidia_cuda_nvrtc_cu12-12.1.105-py3-none-manylinux1_x86_64.whl (23.7 MB)\n",
            "Collecting nvidia-cuda-runtime-cu12==12.1.105 (from torch>=1.6->captum>=0.3.1->transformers-interpret)\n",
            "  Using cached nvidia_cuda_runtime_cu12-12.1.105-py3-none-manylinux1_x86_64.whl (823 kB)\n",
            "Collecting nvidia-cuda-cupti-cu12==12.1.105 (from torch>=1.6->captum>=0.3.1->transformers-interpret)\n",
            "  Using cached nvidia_cuda_cupti_cu12-12.1.105-py3-none-manylinux1_x86_64.whl (14.1 MB)\n",
            "Collecting nvidia-cudnn-cu12==8.9.2.26 (from torch>=1.6->captum>=0.3.1->transformers-interpret)\n",
            "  Using cached nvidia_cudnn_cu12-8.9.2.26-py3-none-manylinux1_x86_64.whl (731.7 MB)\n",
            "Collecting nvidia-cublas-cu12==12.1.3.1 (from torch>=1.6->captum>=0.3.1->transformers-interpret)\n",
            "  Using cached nvidia_cublas_cu12-12.1.3.1-py3-none-manylinux1_x86_64.whl (410.6 MB)\n",
            "Collecting nvidia-cufft-cu12==11.0.2.54 (from torch>=1.6->captum>=0.3.1->transformers-interpret)\n",
            "  Using cached nvidia_cufft_cu12-11.0.2.54-py3-none-manylinux1_x86_64.whl (121.6 MB)\n",
            "Collecting nvidia-curand-cu12==10.3.2.106 (from torch>=1.6->captum>=0.3.1->transformers-interpret)\n",
            "  Using cached nvidia_curand_cu12-10.3.2.106-py3-none-manylinux1_x86_64.whl (56.5 MB)\n",
            "Collecting nvidia-cusolver-cu12==11.4.5.107 (from torch>=1.6->captum>=0.3.1->transformers-interpret)\n",
            "  Using cached nvidia_cusolver_cu12-11.4.5.107-py3-none-manylinux1_x86_64.whl (124.2 MB)\n",
            "Collecting nvidia-cusparse-cu12==12.1.0.106 (from torch>=1.6->captum>=0.3.1->transformers-interpret)\n",
            "  Using cached nvidia_cusparse_cu12-12.1.0.106-py3-none-manylinux1_x86_64.whl (196.0 MB)\n",
            "Collecting nvidia-nccl-cu12==2.20.5 (from torch>=1.6->captum>=0.3.1->transformers-interpret)\n",
            "  Using cached nvidia_nccl_cu12-2.20.5-py3-none-manylinux2014_x86_64.whl (176.2 MB)\n",
            "Collecting nvidia-nvtx-cu12==12.1.105 (from torch>=1.6->captum>=0.3.1->transformers-interpret)\n",
            "  Using cached nvidia_nvtx_cu12-12.1.105-py3-none-manylinux1_x86_64.whl (99 kB)\n",
            "Requirement already satisfied: triton==2.3.0 in /usr/local/lib/python3.10/dist-packages (from torch>=1.6->captum>=0.3.1->transformers-interpret) (2.3.0)\n",
            "Collecting nvidia-nvjitlink-cu12 (from nvidia-cusolver-cu12==11.4.5.107->torch>=1.6->captum>=0.3.1->transformers-interpret)\n",
            "  Downloading nvidia_nvjitlink_cu12-12.5.40-py3-none-manylinux2014_x86_64.whl (21.3 MB)\n",
            "\u001b[2K     \u001b[90m━━━━━━━━━━━━━━━━━━━━━━━━━━━━━━━━━━━━━━━━\u001b[0m \u001b[32m21.3/21.3 MB\u001b[0m \u001b[31m57.3 MB/s\u001b[0m eta \u001b[36m0:00:00\u001b[0m\n",
            "\u001b[?25hRequirement already satisfied: contourpy>=1.0.1 in /usr/local/lib/python3.10/dist-packages (from matplotlib->captum>=0.3.1->transformers-interpret) (1.2.1)\n",
            "Requirement already satisfied: cycler>=0.10 in /usr/local/lib/python3.10/dist-packages (from matplotlib->captum>=0.3.1->transformers-interpret) (0.12.1)\n",
            "Requirement already satisfied: fonttools>=4.22.0 in /usr/local/lib/python3.10/dist-packages (from matplotlib->captum>=0.3.1->transformers-interpret) (4.53.0)\n",
            "Requirement already satisfied: kiwisolver>=1.0.1 in /usr/local/lib/python3.10/dist-packages (from matplotlib->captum>=0.3.1->transformers-interpret) (1.4.5)\n",
            "Requirement already satisfied: pillow>=6.2.0 in /usr/local/lib/python3.10/dist-packages (from matplotlib->captum>=0.3.1->transformers-interpret) (9.4.0)\n",
            "Requirement already satisfied: pyparsing>=2.3.1 in /usr/local/lib/python3.10/dist-packages (from matplotlib->captum>=0.3.1->transformers-interpret) (3.1.2)\n",
            "Requirement already satisfied: python-dateutil>=2.7 in /usr/local/lib/python3.10/dist-packages (from matplotlib->captum>=0.3.1->transformers-interpret) (2.8.2)\n",
            "Requirement already satisfied: charset-normalizer<4,>=2 in /usr/local/lib/python3.10/dist-packages (from requests->transformers>=3.0.0->transformers-interpret) (3.3.2)\n",
            "Requirement already satisfied: idna<4,>=2.5 in /usr/local/lib/python3.10/dist-packages (from requests->transformers>=3.0.0->transformers-interpret) (3.7)\n",
            "Requirement already satisfied: urllib3<3,>=1.21.1 in /usr/local/lib/python3.10/dist-packages (from requests->transformers>=3.0.0->transformers-interpret) (2.0.7)\n",
            "Requirement already satisfied: certifi>=2017.4.17 in /usr/local/lib/python3.10/dist-packages (from requests->transformers>=3.0.0->transformers-interpret) (2024.6.2)\n",
            "Requirement already satisfied: six>=1.5 in /usr/local/lib/python3.10/dist-packages (from python-dateutil>=2.7->matplotlib->captum>=0.3.1->transformers-interpret) (1.16.0)\n",
            "Requirement already satisfied: MarkupSafe>=2.0 in /usr/local/lib/python3.10/dist-packages (from jinja2->torch>=1.6->captum>=0.3.1->transformers-interpret) (2.1.5)\n",
            "Requirement already satisfied: mpmath<1.4.0,>=1.1.0 in /usr/local/lib/python3.10/dist-packages (from sympy->torch>=1.6->captum>=0.3.1->transformers-interpret) (1.3.0)\n",
            "Installing collected packages: nvidia-nvtx-cu12, nvidia-nvjitlink-cu12, nvidia-nccl-cu12, nvidia-curand-cu12, nvidia-cufft-cu12, nvidia-cuda-runtime-cu12, nvidia-cuda-nvrtc-cu12, nvidia-cuda-cupti-cu12, nvidia-cublas-cu12, jedi, nvidia-cusparse-cu12, nvidia-cudnn-cu12, nvidia-cusolver-cu12, captum, transformers-interpret\n",
            "Successfully installed captum-0.7.0 jedi-0.19.1 nvidia-cublas-cu12-12.1.3.1 nvidia-cuda-cupti-cu12-12.1.105 nvidia-cuda-nvrtc-cu12-12.1.105 nvidia-cuda-runtime-cu12-12.1.105 nvidia-cudnn-cu12-8.9.2.26 nvidia-cufft-cu12-11.0.2.54 nvidia-curand-cu12-10.3.2.106 nvidia-cusolver-cu12-11.4.5.107 nvidia-cusparse-cu12-12.1.0.106 nvidia-nccl-cu12-2.20.5 nvidia-nvjitlink-cu12-12.5.40 nvidia-nvtx-cu12-12.1.105 transformers-interpret-0.10.0\n"
          ]
        }
      ]
    },
    {
      "cell_type": "code",
      "execution_count": null,
      "metadata": {
        "id": "3AzeVZ8WeJ98"
      },
      "outputs": [],
      "source": [
        "from transformers import AutoModelForSequenceClassification, AutoTokenizer\n",
        "from transformers_interpret import SequenceClassificationExplainer\n",
        "\n",
        "model_name = \"drive/MyDrive/distilbertbinarymodel/model2label2\"\n",
        "model = AutoModelForSequenceClassification.from_pretrained(model_name)\n",
        "tokenizer = AutoTokenizer.from_pretrained(model_name)\n",
        "\n",
        "\n",
        "cls_explainer = SequenceClassificationExplainer(model, tokenizer)\n",
        "\n"
      ]
    },
    {
      "cell_type": "code",
      "source": [
        "#description = \"\"\"\n",
        "#Influences from Spain, Italy and other Mediterranean countries combined with a compassion for the ocean has given birth to this beautiful home. Finished with high-end appliances and marine grade hardwood floors, this home away from home provides you with an unforgettable experience that is one block to the Pacific Ocean. Rooftop deck with ocean views and Jacuzzi (Great for catching the Seaworld fireworks every night in the summer). Gourmet kitchen to indulge in or hit a local hotspot. Why hassle with the bar crowds and congestion of Gas Lamp? This is a prime beach location and is close to all key attractions by foot, short bus, or cab ride. Minutes from: San Diego Convention Center, Gas Lamp District, San Diego Zoo, Balboa Park, Museums, Seaport Village, Marina District, Petco Park, Little Italy, San Diego City College, East Village, Horton Plaza, Mexico, Restaurants, Shopping and much more. This hippy oriented neighborhood is safe, quiet and fun to be in with ocean, parks and recreation on your doorstep. * FREE WiFi * FREE On street parking * FREE Hot Tub * FREE Washer/Dryer use in unit Tip: Residents of Ocean Beach often r none Find your Funk & Groove in Ocean Beach If youre looking for a laid back beach to hang out like a local, look no further than Ocean Beach. This small beach town is a favorite among locals who spend their days surfing, sun bathing around the pier, hanging out in their vintage VW vans, and strolling through the many surf shops, taco stands and antique malls. Ocean Beach offers the pitch perfect throw-back groovy vibe of vintage SoCal, coupled with friendly locals, great dining, and a vibrant night life scene. Nestled between the San Diego River and the hills of Point Loma, Ocean Beach is perfect for surfers to enjoy the waves created by jetties. The beach is also friendly for swimmers, sun bathers, even dogs too! Sorry, no pets inside the house unless really small and quite ones, but a decent sized gated back yard will accommodate most animals. Important: A Master Bedroom or Spare Room of a 3 bedroom / 3 bathroom home is available. Please confirm which room is of interest and I will confirm availability.\n",
        "# \"\"\"\n",
        "description = '''Our cozy apartment offers stunning views of the city skyline. The kitchen is fully equipped with modern appliances. The location is not very central, but public transportation is easily accessible. Enjoy a comfortable stay with all the amenities you need.'''\n",
        "word_attributions = cls_explainer(description)\n",
        "\n"
      ],
      "metadata": {
        "id": "YKuVkWmioI38"
      },
      "execution_count": null,
      "outputs": []
    },
    {
      "cell_type": "code",
      "source": [
        "word_attributions"
      ],
      "metadata": {
        "id": "gTSDrdwvhlqm",
        "colab": {
          "base_uri": "https://localhost:8080/"
        },
        "outputId": "c40d6841-b8d7-4cf6-8c65-84bccde0a226"
      },
      "execution_count": null,
      "outputs": [
        {
          "output_type": "execute_result",
          "data": {
            "text/plain": [
              "[('[CLS]', 0.0),\n",
              " ('our', 0.34078695710234513),\n",
              " ('cozy', -0.2468797758036057),\n",
              " ('apartment', -0.0385077551795439),\n",
              " ('offers', 0.07833348022637),\n",
              " ('stunning', -0.15029978009806189),\n",
              " ('views', 0.08354883533127305),\n",
              " ('of', -0.05504112955193507),\n",
              " ('the', 0.13856675645173425),\n",
              " ('city', 0.025428946427923503),\n",
              " ('skyline', 0.0145970225772546),\n",
              " ('.', 0.11139143711842472),\n",
              " ('the', -0.05858751893542253),\n",
              " ('kitchen', 0.3415143218878303),\n",
              " ('is', -0.07281601131325187),\n",
              " ('fully', 0.13067276182650805),\n",
              " ('equipped', -0.026610160784592163),\n",
              " ('with', 0.06507975911679405),\n",
              " ('modern', -0.20314688208799153),\n",
              " ('appliances', 0.3921716769038509),\n",
              " ('.', -0.002780043806991343),\n",
              " ('the', -0.01777426142874404),\n",
              " ('location', -0.23947249573196341),\n",
              " ('is', -0.05658620505601541),\n",
              " ('not', -0.09687188649709466),\n",
              " ('very', -0.11854000251289556),\n",
              " ('central', 0.001897838924938964),\n",
              " (',', 0.0009089598065356235),\n",
              " ('but', 0.1410189921848387),\n",
              " ('public', -0.13804233965518392),\n",
              " ('transportation', -0.29224123751127623),\n",
              " ('is', 0.07048577687368208),\n",
              " ('easily', 0.05916584019302597),\n",
              " ('accessible', 0.1185722322888864),\n",
              " ('.', 0.18665495099878657),\n",
              " ('enjoy', 0.018613470334876633),\n",
              " ('a', -0.04068064226499993),\n",
              " ('comfortable', -0.2197729114921311),\n",
              " ('stay', -0.016372397135389256),\n",
              " ('with', -0.07026161477164188),\n",
              " ('all', 0.13841248475018209),\n",
              " ('the', -0.02738372361798942),\n",
              " ('amenities', 0.2356020631550815),\n",
              " ('you', -0.09017431453818679),\n",
              " ('need', 0.0470655116478319),\n",
              " ('.', 0.021840137684848965),\n",
              " ('[SEP]', 0.0)]"
            ]
          },
          "metadata": {},
          "execution_count": 4
        }
      ]
    },
    {
      "cell_type": "code",
      "source": [
        "sentenceEnds = []\n",
        "index = -1\n",
        "for token , _ in word_attributions:\n",
        "  index += 1\n",
        "  if token == \".\":\n",
        "    sentenceEnds.append(index)"
      ],
      "metadata": {
        "id": "x6F8jkO4AmWn"
      },
      "execution_count": null,
      "outputs": []
    },
    {
      "cell_type": "code",
      "source": [
        "sentenceEnds"
      ],
      "metadata": {
        "colab": {
          "base_uri": "https://localhost:8080/"
        },
        "id": "FsHVwV5eA9Nd",
        "outputId": "ef15d840-bad5-4ec9-81fa-76b25868b9d6"
      },
      "execution_count": null,
      "outputs": [
        {
          "output_type": "execute_result",
          "data": {
            "text/plain": [
              "[11, 20, 34, 45]"
            ]
          },
          "metadata": {},
          "execution_count": 6
        }
      ]
    },
    {
      "cell_type": "code",
      "source": [
        "indextoriginalsentence = {index: sentence for index, sentence in enumerate(description.split('.'))}"
      ],
      "metadata": {
        "id": "UUsX5_3pbIb5"
      },
      "execution_count": null,
      "outputs": []
    },
    {
      "cell_type": "code",
      "source": [
        "indextoriginalsentence"
      ],
      "metadata": {
        "colab": {
          "base_uri": "https://localhost:8080/"
        },
        "id": "YBxfpgdcbdfh",
        "outputId": "2e5cbfca-e088-411f-9685-9c5fa914297e"
      },
      "execution_count": null,
      "outputs": [
        {
          "output_type": "execute_result",
          "data": {
            "text/plain": [
              "{0: 'Our cozy apartment offers stunning views of the city skyline',\n",
              " 1: ' The kitchen is fully equipped with modern appliances',\n",
              " 2: ' The location is not very central, but public transportation is easily accessible',\n",
              " 3: ' Enjoy a comfortable stay with all the amenities you need',\n",
              " 4: ''}"
            ]
          },
          "metadata": {},
          "execution_count": 8
        }
      ]
    },
    {
      "cell_type": "code",
      "source": [
        "sentenceScores = []\n",
        "startIndex=0\n",
        "sentenceIndex = 0\n",
        "for endIndex in sentenceEnds:\n",
        "\n",
        "  sentenceScore = 0\n",
        "  sentence = []\n",
        "  for word, score in word_attributions[startIndex:endIndex]:\n",
        "    sentenceScore += score\n",
        "    sentence.append(word)\n",
        "  sentenceScores.append((\" \".join(sentence),sentenceScore/(-startIndex +endIndex),sentenceIndex))\n",
        "  sentenceIndex += 1\n",
        "  startIndex = endIndex+1\n",
        "\n",
        "\n",
        "\n"
      ],
      "metadata": {
        "id": "XrWBCAaqA_zA"
      },
      "execution_count": null,
      "outputs": []
    },
    {
      "cell_type": "code",
      "source": [
        "for element in sorted(sentenceScores, key= lambda x: x[1])[0:5]:\n",
        "  print(element)\n",
        "  print(indextoriginalsentence[element[2]])"
      ],
      "metadata": {
        "colab": {
          "base_uri": "https://localhost:8080/"
        },
        "id": "DBxkMLBwCDwU",
        "outputId": "bc3be0ef-6e48-468a-a7e3-0e777aa5d47a"
      },
      "execution_count": null,
      "outputs": [
        {
          "output_type": "stream",
          "name": "stdout",
          "text": [
            "('the location is not very central , but public transportation is easily accessible', -0.04365221447086658, 2)\n",
            " The location is not very central, but public transportation is easily accessible\n",
            "('enjoy a comfortable stay with all the amenities you need', -0.0024952073932366222, 3)\n",
            " Enjoy a comfortable stay with all the amenities you need\n",
            "('[CLS] our cozy apartment offers stunning views of the city skyline', 0.01732123249852309, 0)\n",
            "Our cozy apartment offers stunning views of the city skyline\n",
            "('the kitchen is fully equipped with modern appliances', 0.07103474332671565, 1)\n",
            " The kitchen is fully equipped with modern appliances\n"
          ]
        }
      ]
    },
    {
      "cell_type": "code",
      "source": [
        "for element in list(reversed(sorted(sentenceScores, key= lambda x: x[1])[-6:-1])):\n",
        "  print(element)\n",
        "  print(indextoriginalsentence[element[2]])\n"
      ],
      "metadata": {
        "colab": {
          "base_uri": "https://localhost:8080/"
        },
        "id": "1bAOTRfnCzO0",
        "outputId": "390b719b-b108-4547-b66a-cae3261e3807"
      },
      "execution_count": null,
      "outputs": [
        {
          "output_type": "stream",
          "name": "stdout",
          "text": [
            "('[CLS] our cozy apartment offers stunning views of the city skyline', 0.01732123249852309, 0)\n",
            "Our cozy apartment offers stunning views of the city skyline\n",
            "('enjoy a comfortable stay with all the amenities you need', -0.0024952073932366222, 3)\n",
            " Enjoy a comfortable stay with all the amenities you need\n",
            "('the location is not very central , but public transportation is easily accessible', -0.04365221447086658, 2)\n",
            " The location is not very central, but public transportation is easily accessible\n"
          ]
        }
      ]
    }
  ]
}