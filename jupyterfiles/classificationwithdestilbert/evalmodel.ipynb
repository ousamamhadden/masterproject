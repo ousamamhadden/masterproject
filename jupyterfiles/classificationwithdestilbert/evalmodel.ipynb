{
 "cells": [
  {
   "cell_type": "code",
   "execution_count": 2,
   "metadata": {},
   "outputs": [
    {
     "name": "stderr",
     "output_type": "stream",
     "text": [
      "03/16/2024 08:23:47 - INFO - happytransformer.happy_transformer -   Using device: cuda:0\n"
     ]
    }
   ],
   "source": [
    "#from transformers import AutoTokenizer, DistilBertForSequenceClassification,DistilBertConfig,DistilBertModel\n",
    "#configuration = DistilBertConfig(max_position_embeddings=2048)\n",
    "\n",
    "#model =  DistilBertModel(config=configuration).to(\"cuda:0\")\n",
    "from happytransformer import HappyTextClassification, TCTrainArgs\n",
    "\n",
    "\n",
    "happy_tc = HappyTextClassification(\"DISTILBERT\", \"./model/modelnew\", num_labels=11)\n",
    "#happy_tc.model.distilbert = model"
   ]
  },
  {
   "cell_type": "code",
   "execution_count": null,
   "metadata": {},
   "outputs": [],
   "source": [
    "\n",
    "def usemodel(x):\n",
    "    result = happy_tc.classify_text(x)\n",
    "    #print(type(result))  # <class 'happytransformer.happy_text_classification.TextClassificationResult'>\n",
    "    #print(result)  # TextClassificationResult(label='POSITIVE', score=0.9998761415481567)\n",
    "    #print(result.label)  # LABEL_1\n",
    "    return result.label\n",
    "\n",
    "import pandas as pd\n",
    "df = pd.read_csv('testdata.csv', sep=',')\n",
    "ypred = []\n",
    "ytest = []\n",
    "for index,row in df.iterrows():\n",
    "    print(row['text'])\n",
    "    print(row['label'])\n",
    "    ypred.append(usemodel(row['text']))\n",
    "    ytest.append(int(row['label']))\n",
    "ypred = list(map(lambda x: int(x[-1]),ypred))\n",
    "from sklearn.metrics import classification_report, confusion_matrix\n",
    "print(classification_report(ytest,ypred))"
   ]
  }
 ],
 "metadata": {
  "kernelspec": {
   "display_name": "newenvn",
   "language": "python",
   "name": "python3"
  },
  "language_info": {
   "codemirror_mode": {
    "name": "ipython",
    "version": 3
   },
   "file_extension": ".py",
   "mimetype": "text/x-python",
   "name": "python",
   "nbconvert_exporter": "python",
   "pygments_lexer": "ipython3",
   "version": "3.11.7"
  }
 },
 "nbformat": 4,
 "nbformat_minor": 2
}
