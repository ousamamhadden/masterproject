{
 "cells": [
  {
   "cell_type": "code",
   "execution_count": 1,
   "metadata": {},
   "outputs": [
    {
     "name": "stdout",
     "output_type": "stream",
     "text": [
      "Requirement already satisfied: numpy in /home/bob/anaconda3/envs/newenvn/lib/python3.11/site-packages (1.26.4)\n",
      "Requirement already satisfied: pandas in /home/bob/anaconda3/envs/newenvn/lib/python3.11/site-packages (2.2.0)\n",
      "Requirement already satisfied: numpy<2,>=1.23.2 in /home/bob/anaconda3/envs/newenvn/lib/python3.11/site-packages (from pandas) (1.26.4)\n",
      "Requirement already satisfied: python-dateutil>=2.8.2 in /home/bob/anaconda3/envs/newenvn/lib/python3.11/site-packages (from pandas) (2.8.2)\n",
      "Requirement already satisfied: pytz>=2020.1 in /home/bob/anaconda3/envs/newenvn/lib/python3.11/site-packages (from pandas) (2024.1)\n",
      "Requirement already satisfied: tzdata>=2022.7 in /home/bob/anaconda3/envs/newenvn/lib/python3.11/site-packages (from pandas) (2024.1)\n",
      "Requirement already satisfied: six>=1.5 in /home/bob/anaconda3/envs/newenvn/lib/python3.11/site-packages (from python-dateutil>=2.8.2->pandas) (1.16.0)\n",
      "Requirement already satisfied: transformers in /home/bob/anaconda3/envs/newenvn/lib/python3.11/site-packages (4.37.2)\n",
      "Requirement already satisfied: filelock in /home/bob/anaconda3/envs/newenvn/lib/python3.11/site-packages (from transformers) (3.13.1)\n",
      "Requirement already satisfied: huggingface-hub<1.0,>=0.19.3 in /home/bob/anaconda3/envs/newenvn/lib/python3.11/site-packages (from transformers) (0.20.3)\n",
      "Requirement already satisfied: numpy>=1.17 in /home/bob/anaconda3/envs/newenvn/lib/python3.11/site-packages (from transformers) (1.26.4)\n",
      "Requirement already satisfied: packaging>=20.0 in /home/bob/anaconda3/envs/newenvn/lib/python3.11/site-packages (from transformers) (23.2)\n",
      "Requirement already satisfied: pyyaml>=5.1 in /home/bob/anaconda3/envs/newenvn/lib/python3.11/site-packages (from transformers) (6.0.1)\n",
      "Requirement already satisfied: regex!=2019.12.17 in /home/bob/anaconda3/envs/newenvn/lib/python3.11/site-packages (from transformers) (2023.12.25)\n",
      "Requirement already satisfied: requests in /home/bob/anaconda3/envs/newenvn/lib/python3.11/site-packages (from transformers) (2.31.0)\n",
      "Requirement already satisfied: tokenizers<0.19,>=0.14 in /home/bob/anaconda3/envs/newenvn/lib/python3.11/site-packages (from transformers) (0.15.2)\n",
      "Requirement already satisfied: safetensors>=0.4.1 in /home/bob/anaconda3/envs/newenvn/lib/python3.11/site-packages (from transformers) (0.4.2)\n",
      "Requirement already satisfied: tqdm>=4.27 in /home/bob/anaconda3/envs/newenvn/lib/python3.11/site-packages (from transformers) (4.66.2)\n",
      "Requirement already satisfied: fsspec>=2023.5.0 in /home/bob/anaconda3/envs/newenvn/lib/python3.11/site-packages (from huggingface-hub<1.0,>=0.19.3->transformers) (2023.10.0)\n",
      "Requirement already satisfied: typing-extensions>=3.7.4.3 in /home/bob/anaconda3/envs/newenvn/lib/python3.11/site-packages (from huggingface-hub<1.0,>=0.19.3->transformers) (4.9.0)\n",
      "Requirement already satisfied: charset-normalizer<4,>=2 in /home/bob/anaconda3/envs/newenvn/lib/python3.11/site-packages (from requests->transformers) (3.3.2)\n",
      "Requirement already satisfied: idna<4,>=2.5 in /home/bob/anaconda3/envs/newenvn/lib/python3.11/site-packages (from requests->transformers) (3.6)\n",
      "Requirement already satisfied: urllib3<3,>=1.21.1 in /home/bob/anaconda3/envs/newenvn/lib/python3.11/site-packages (from requests->transformers) (2.2.0)\n",
      "Requirement already satisfied: certifi>=2017.4.17 in /home/bob/anaconda3/envs/newenvn/lib/python3.11/site-packages (from requests->transformers) (2024.2.2)\n"
     ]
    }
   ],
   "source": [
    "!pip install numpy\n",
    "!pip install pandas\n",
    "!pip install transformers\n"
   ]
  },
  {
   "cell_type": "code",
   "execution_count": 2,
   "metadata": {},
   "outputs": [
    {
     "data": {
      "text/html": [
       "<div>\n",
       "<style scoped>\n",
       "    .dataframe tbody tr th:only-of-type {\n",
       "        vertical-align: middle;\n",
       "    }\n",
       "\n",
       "    .dataframe tbody tr th {\n",
       "        vertical-align: top;\n",
       "    }\n",
       "\n",
       "    .dataframe thead th {\n",
       "        text-align: right;\n",
       "    }\n",
       "</style>\n",
       "<table border=\"1\" class=\"dataframe\">\n",
       "  <thead>\n",
       "    <tr style=\"text-align: right;\">\n",
       "      <th></th>\n",
       "      <th>Summary</th>\n",
       "      <th>Space</th>\n",
       "      <th>Experiences Offered</th>\n",
       "      <th>Neighborhood Overview</th>\n",
       "      <th>Notes</th>\n",
       "      <th>Transit</th>\n",
       "      <th>Access</th>\n",
       "      <th>Interaction</th>\n",
       "      <th>House Rules</th>\n",
       "      <th>Review Scores Cleanliness</th>\n",
       "    </tr>\n",
       "  </thead>\n",
       "  <tbody>\n",
       "    <tr>\n",
       "      <th>0</th>\n",
       "      <td>Located 15 minutes from downtown in desirable ...</td>\n",
       "      <td>NaN</td>\n",
       "      <td>none</td>\n",
       "      <td>NaN</td>\n",
       "      <td>NaN</td>\n",
       "      <td>NaN</td>\n",
       "      <td>NaN</td>\n",
       "      <td>NaN</td>\n",
       "      <td>NaN</td>\n",
       "      <td>NaN</td>\n",
       "    </tr>\n",
       "    <tr>\n",
       "      <th>1</th>\n",
       "      <td>Charming yet Trendy Retreat- in my 2 bedroom w...</td>\n",
       "      <td>My home is a town home, so I do have stairs. B...</td>\n",
       "      <td>none</td>\n",
       "      <td>NaN</td>\n",
       "      <td>The front house is my landlord, who is lovely....</td>\n",
       "      <td>NaN</td>\n",
       "      <td>Guests are welcome to the kitchen, living room...</td>\n",
       "      <td>I would love to be here to check you in and sh...</td>\n",
       "      <td>- Please no parties, and loud noise. My home i...</td>\n",
       "      <td>10.0</td>\n",
       "    </tr>\n",
       "    <tr>\n",
       "      <th>2</th>\n",
       "      <td>Our 300 sq. feet King rooms feature floor-to-c...</td>\n",
       "      <td>King-sized bed Down comforters and pillows (hy...</td>\n",
       "      <td>none</td>\n",
       "      <td>NaN</td>\n",
       "      <td>NaN</td>\n",
       "      <td>NaN</td>\n",
       "      <td>NaN</td>\n",
       "      <td>NaN</td>\n",
       "      <td>NaN</td>\n",
       "      <td>NaN</td>\n",
       "    </tr>\n",
       "    <tr>\n",
       "      <th>3</th>\n",
       "      <td>1 Bdrm Brownstone, sleeps 2. Steps from KINGST...</td>\n",
       "      <td>Our 100 year old Landmark Brownstone is a HOME...</td>\n",
       "      <td>none</td>\n",
       "      <td>Bedford Stuyvesant is a very culturally divers...</td>\n",
       "      <td>Certain times of the year there are fun and in...</td>\n",
       "      <td>There are trains A or C  are five minute walk ...</td>\n",
       "      <td>You will be able acess entire space when i mee...</td>\n",
       "      <td>I will be meeting with you to give you acces t...</td>\n",
       "      <td>NaN</td>\n",
       "      <td>NaN</td>\n",
       "    </tr>\n",
       "    <tr>\n",
       "      <th>4</th>\n",
       "      <td>Grab your friends and make this two bedroom Br...</td>\n",
       "      <td>NaN</td>\n",
       "      <td>none</td>\n",
       "      <td>NaN</td>\n",
       "      <td>NaN</td>\n",
       "      <td>NaN</td>\n",
       "      <td>NaN</td>\n",
       "      <td>NaN</td>\n",
       "      <td>NaN</td>\n",
       "      <td>9.0</td>\n",
       "    </tr>\n",
       "  </tbody>\n",
       "</table>\n",
       "</div>"
      ],
      "text/plain": [
       "                                             Summary  \\\n",
       "0  Located 15 minutes from downtown in desirable ...   \n",
       "1  Charming yet Trendy Retreat- in my 2 bedroom w...   \n",
       "2  Our 300 sq. feet King rooms feature floor-to-c...   \n",
       "3  1 Bdrm Brownstone, sleeps 2. Steps from KINGST...   \n",
       "4  Grab your friends and make this two bedroom Br...   \n",
       "\n",
       "                                               Space Experiences Offered  \\\n",
       "0                                                NaN                none   \n",
       "1  My home is a town home, so I do have stairs. B...                none   \n",
       "2  King-sized bed Down comforters and pillows (hy...                none   \n",
       "3  Our 100 year old Landmark Brownstone is a HOME...                none   \n",
       "4                                                NaN                none   \n",
       "\n",
       "                               Neighborhood Overview  \\\n",
       "0                                                NaN   \n",
       "1                                                NaN   \n",
       "2                                                NaN   \n",
       "3  Bedford Stuyvesant is a very culturally divers...   \n",
       "4                                                NaN   \n",
       "\n",
       "                                               Notes  \\\n",
       "0                                                NaN   \n",
       "1  The front house is my landlord, who is lovely....   \n",
       "2                                                NaN   \n",
       "3  Certain times of the year there are fun and in...   \n",
       "4                                                NaN   \n",
       "\n",
       "                                             Transit  \\\n",
       "0                                                NaN   \n",
       "1                                                NaN   \n",
       "2                                                NaN   \n",
       "3  There are trains A or C  are five minute walk ...   \n",
       "4                                                NaN   \n",
       "\n",
       "                                              Access  \\\n",
       "0                                                NaN   \n",
       "1  Guests are welcome to the kitchen, living room...   \n",
       "2                                                NaN   \n",
       "3  You will be able acess entire space when i mee...   \n",
       "4                                                NaN   \n",
       "\n",
       "                                         Interaction  \\\n",
       "0                                                NaN   \n",
       "1  I would love to be here to check you in and sh...   \n",
       "2                                                NaN   \n",
       "3  I will be meeting with you to give you acces t...   \n",
       "4                                                NaN   \n",
       "\n",
       "                                         House Rules  \\\n",
       "0                                                NaN   \n",
       "1  - Please no parties, and loud noise. My home i...   \n",
       "2                                                NaN   \n",
       "3                                                NaN   \n",
       "4                                                NaN   \n",
       "\n",
       "   Review Scores Cleanliness  \n",
       "0                        NaN  \n",
       "1                       10.0  \n",
       "2                        NaN  \n",
       "3                        NaN  \n",
       "4                        9.0  "
      ]
     },
     "execution_count": 2,
     "metadata": {},
     "output_type": "execute_result"
    }
   ],
   "source": [
    "import numpy as np \n",
    "import pandas as pd \n",
    "\n",
    "\n",
    "df = pd.read_csv('datasetV1Cleaningness.csv')\n",
    "df.head()"
   ]
  },
  {
   "cell_type": "code",
   "execution_count": 3,
   "metadata": {},
   "outputs": [],
   "source": [
    "\n",
    "df = df.sample(frac=0.04, random_state=42)"
   ]
  },
  {
   "cell_type": "code",
   "execution_count": 4,
   "metadata": {},
   "outputs": [
    {
     "name": "stderr",
     "output_type": "stream",
     "text": [
      "/home/bob/anaconda3/envs/newenvn/lib/python3.11/site-packages/tqdm/auto.py:21: TqdmWarning: IProgress not found. Please update jupyter and ipywidgets. See https://ipywidgets.readthedocs.io/en/stable/user_install.html\n",
      "  from .autonotebook import tqdm as notebook_tqdm\n"
     ]
    },
    {
     "data": {
      "text/plain": [
       "'\\n# Check if GPU is available\\nif torch.cuda.is_available():\\n    # Set the default tensor type to CUDA tensor\\n    torch.set_default_tensor_type(torch.cuda.FloatTensor)\\ndevice = torch.device(\"cuda\" if torch.cuda.is_available() else \"cpu\")\\n\\ntorch.set_default_device(device)'"
      ]
     },
     "execution_count": 4,
     "metadata": {},
     "output_type": "execute_result"
    }
   ],
   "source": [
    "import torch\n",
    "import torch.nn as nn\n",
    "import torch.optim as optim\n",
    "import torch.nn.functional as F\n",
    "from torch.utils.data import Dataset, DataLoader\n",
    "\n",
    "from transformers import BertPreTrainedModel, BertModel, BertTokenizer\n",
    "\n",
    "from sklearn import metrics\n",
    "from sklearn.model_selection import train_test_split\n",
    "from tqdm import tqdm, trange\n",
    "import torch\n",
    "\n",
    "'''\n",
    "# Check if GPU is available\n",
    "if torch.cuda.is_available():\n",
    "    # Set the default tensor type to CUDA tensor\n",
    "    torch.set_default_tensor_type(torch.cuda.FloatTensor)\n",
    "device = torch.device(\"cuda\" if torch.cuda.is_available() else \"cpu\")\n",
    "\n",
    "torch.set_default_device(device)'''\n"
   ]
  },
  {
   "cell_type": "code",
   "execution_count": 5,
   "metadata": {},
   "outputs": [],
   "source": [
    "import os\n",
    "os.environ['TOKENIZERS_PARALLELISM']= \"false\""
   ]
  },
  {
   "cell_type": "code",
   "execution_count": 6,
   "metadata": {},
   "outputs": [],
   "source": [
    "df['SummaryClean']= df['Summary'].map(lambda x : str(x))"
   ]
  },
  {
   "cell_type": "code",
   "execution_count": 7,
   "metadata": {},
   "outputs": [
    {
     "data": {
      "text/plain": [
       "537"
      ]
     },
     "execution_count": 7,
     "metadata": {},
     "output_type": "execute_result"
    }
   ],
   "source": [
    "len(df.SummaryClean.tolist())"
   ]
  },
  {
   "cell_type": "code",
   "execution_count": 11,
   "metadata": {},
   "outputs": [
    {
     "data": {
      "text/plain": [
       "0.6973538398742676"
      ]
     },
     "execution_count": 11,
     "metadata": {},
     "output_type": "execute_result"
    }
   ],
   "source": [
    "from transformers import pipeline\n",
    "classifier = pipeline(\"zero-shot-classification\",\n",
    "                      model=\"facebook/bart-large-mnli\")\n",
    "sequence_to_classify = df.SummaryClean.to_numpy()[0]\n",
    "candidate_labels = ['clean']\n",
    "classifier(sequence_to_classify, candidate_labels)['scores'][0]"
   ]
  },
  {
   "cell_type": "code",
   "execution_count": 12,
   "metadata": {},
   "outputs": [],
   "source": [
    "scores = []\n",
    "with torch.no_grad():\n",
    "    for i in df.SummaryClean.tolist():\n",
    "        scores.append(classifier(i, candidate_labels)['scores'][0])\n"
   ]
  },
  {
   "cell_type": "code",
   "execution_count": 13,
   "metadata": {},
   "outputs": [
    {
     "name": "stdout",
     "output_type": "stream",
     "text": [
      "Requirement already satisfied: matplotlib in /home/bob/anaconda3/envs/newenvn/lib/python3.11/site-packages (3.8.3)\n",
      "Requirement already satisfied: contourpy>=1.0.1 in /home/bob/anaconda3/envs/newenvn/lib/python3.11/site-packages (from matplotlib) (1.2.0)\n",
      "Requirement already satisfied: cycler>=0.10 in /home/bob/anaconda3/envs/newenvn/lib/python3.11/site-packages (from matplotlib) (0.12.1)\n",
      "Requirement already satisfied: fonttools>=4.22.0 in /home/bob/anaconda3/envs/newenvn/lib/python3.11/site-packages (from matplotlib) (4.49.0)\n",
      "Requirement already satisfied: kiwisolver>=1.3.1 in /home/bob/anaconda3/envs/newenvn/lib/python3.11/site-packages (from matplotlib) (1.4.5)\n",
      "Requirement already satisfied: numpy<2,>=1.21 in /home/bob/anaconda3/envs/newenvn/lib/python3.11/site-packages (from matplotlib) (1.26.4)\n",
      "Requirement already satisfied: packaging>=20.0 in /home/bob/anaconda3/envs/newenvn/lib/python3.11/site-packages (from matplotlib) (23.2)\n",
      "Requirement already satisfied: pillow>=8 in /home/bob/anaconda3/envs/newenvn/lib/python3.11/site-packages (from matplotlib) (10.2.0)\n",
      "Requirement already satisfied: pyparsing>=2.3.1 in /home/bob/anaconda3/envs/newenvn/lib/python3.11/site-packages (from matplotlib) (3.1.1)\n",
      "Requirement already satisfied: python-dateutil>=2.7 in /home/bob/anaconda3/envs/newenvn/lib/python3.11/site-packages (from matplotlib) (2.8.2)\n",
      "Requirement already satisfied: six>=1.5 in /home/bob/anaconda3/envs/newenvn/lib/python3.11/site-packages (from python-dateutil>=2.7->matplotlib) (1.16.0)\n"
     ]
    }
   ],
   "source": [
    "!pip install matplotlib"
   ]
  },
  {
   "cell_type": "code",
   "execution_count": null,
   "metadata": {},
   "outputs": [],
   "source": []
  },
  {
   "cell_type": "code",
   "execution_count": 14,
   "metadata": {},
   "outputs": [
    {
     "data": {
      "image/png": "[encoded data removed]",
      "text/plain": [
       "<Figure size 640x480 with 1 Axes>"
      ]
     },
     "metadata": {},
     "output_type": "display_data"
    }
   ],
   "source": [
    "import matplotlib.pyplot as plt\n",
    "\n",
    "# Create some sample data\n",
    "x = df['Review Scores Cleanliness'].map(lambda x: float(x))\n",
    "y_values = list(map(lambda x: float(x),scores))\n",
    "\n",
    "# Plot the data\n",
    "plt.scatter(y_values,x)\n",
    "plt.ylabel('some numbers')  # Add a label to the y-axis\n",
    "plt.show()  # Display the plot\n"
   ]
  }
 ],
 "metadata": {
  "kernelspec": {
   "display_name": "newenvn",
   "language": "python",
   "name": "python3"
  },
  "language_info": {
   "codemirror_mode": {
    "name": "ipython",
    "version": 3
   },
   "file_extension": ".py",
   "mimetype": "text/x-python",
   "name": "python",
   "nbconvert_exporter": "python",
   "pygments_lexer": "ipython3",
   "version": "3.11.7"
  }
 },
 "nbformat": 4,
 "nbformat_minor": 2
}
